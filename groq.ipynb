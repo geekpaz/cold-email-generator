{
 "cells": [
  {
   "cell_type": "code",
   "execution_count": 1,
   "id": "5a2e6334-5bf3-4a85-95ae-81358919b9a8",
   "metadata": {},
   "outputs": [
    {
     "name": "stdout",
     "output_type": "stream",
     "text": [
      "Prayagraj, formerly known as Allahabad, is famous for several things:\n",
      "\n",
      "1. Kumbh Mela: Prayagraj is one of the four cities in India that hosts the Kumbh Mela, a massive Hindu festival that takes place every 12 years. It is considered one of the largest human gatherings in the world.\n",
      "\n",
      "2. Triveni Sangam: Prayagraj is home to the Triveni Sangam, a sacred confluence of three rivers: the Ganges, the Yamuna, and the Saraswati. This site is considered highly sacred in Hinduism.\n",
      "\n",
      "3. Akshayavat: Prayagraj is also famous for the Akshayavat, a sacred tree that is said to be immortal. According to Hindu mythology, the tree is indestructible and has been in existence since the time of the gods.\n",
      "\n",
      "4. Allahabad Fort: The city is also home to the Allahabad Fort, a 16th-century fort built by the Mughal emperor Akbar. The fort houses several important monuments, including the Ashoka Pillar and the Saraswati Koop.\n",
      "\n",
      "5. Education: Prayagraj is also known for its educational institutions, including the University of Allahabad, which is one of the oldest universities in India.\n",
      "\n",
      "Overall, Prayagraj is a city with a rich cultural and historical heritage, and it is considered one of the most sacred cities in Hinduism.\n"
     ]
    }
   ],
   "source": [
    "from langchain_groq import ChatGroq\n",
    "\n",
    "llm = ChatGroq(\n",
    "    temperature=0,\n",
    "    groq_api_key = \"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\",\n",
    "    model_name = \"llama-3.1-70b-versatile\" \n",
    ")\n",
    "#Generating response from llm and displaying it\n",
    "\n",
    "llm_response = llm.invoke(\"Prayagraj is famous for...\")\n",
    "print(llm_response.content)"
   ]
  },
  {
   "cell_type": "code",
   "execution_count": null,
   "id": "408f9244-9e19-4777-ae3f-78948f832a41",
   "metadata": {},
   "outputs": [],
   "source": []
  }
 ],
 "metadata": {
  "kernelspec": {
   "display_name": "Python 3 (ipykernel)",
   "language": "python",
   "name": "python3"
  },
  "language_info": {
   "codemirror_mode": {
    "name": "ipython",
    "version": 3
   },
   "file_extension": ".py",
   "mimetype": "text/x-python",
   "name": "python",
   "nbconvert_exporter": "python",
   "pygments_lexer": "ipython3",
   "version": "3.12.4"
  }
 },
 "nbformat": 4,
 "nbformat_minor": 5
}
